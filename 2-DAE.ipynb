{
 "cells": [
  {
   "cell_type": "markdown",
   "metadata": {},
   "source": [
    "## Train the Deep Auto Encolder Model (DAE)"
   ]
  },
  {
   "cell_type": "code",
   "execution_count": 1,
   "metadata": {},
   "outputs": [],
   "source": [
    "import os\n",
    "import pickle\n",
    "\n",
    "output_data_path = \"output/\""
   ]
  },
  {
   "cell_type": "markdown",
   "metadata": {},
   "source": [
    "##### Wavelenght Arrays (Feature Names)"
   ]
  },
  {
   "cell_type": "code",
   "execution_count": 2,
   "metadata": {},
   "outputs": [],
   "source": [
    "with open('data/wvl_arr.pkl', 'rb') as f:\n",
    "    base_wvl_arr = pickle.load(f)\n",
    "swir_wvl_base = base_wvl_arr[0].astype(str).values\n",
    "tir_wvl_base = base_wvl_arr[1].astype(str).values\n",
    "tir_wvl_base = [float(w) for w in tir_wvl_base]"
   ]
  },
  {
   "cell_type": "markdown",
   "metadata": {},
   "source": [
    "##### Load Training Data"
   ]
  },
  {
   "cell_type": "code",
   "execution_count": 3,
   "metadata": {},
   "outputs": [],
   "source": [
    "with open(\n",
    "    os.path.join(output_data_path, \"prominentHill_all_spectra_cr_cu.pkl\"), \"rb\"\n",
    ") as f:\n",
    "    (all_spectra_cr, all_cu) = pickle.load(f)"
   ]
  },
  {
   "cell_type": "code",
   "execution_count": 4,
   "metadata": {},
   "outputs": [
    {
     "name": "stdout",
     "output_type": "stream",
     "text": [
      "Swir Channels: 380.0-2500.0nm total of 531\n",
      "Tir Channels:  6000.0-14500.0nm total of 341\n",
      "Data N Samples:  219363\n",
      "Data N Features:  872\n"
     ]
    }
   ],
   "source": [
    "print(f\"Swir Channels: {min(swir_wvl_base.astype(float))}-{max(swir_wvl_base.astype(float))}nm total of {swir_wvl_base.shape[0]}\")\n",
    "print(f\"Tir Channels:  {min(tir_wvl_base)}-{max(tir_wvl_base)}nm total of {len(tir_wvl_base)}\")\n",
    "print(\"Data N Samples: \", all_spectra_cr.shape[0])\n",
    "print(\"Data N Features: \", all_spectra_cr.shape[1])"
   ]
  },
  {
   "cell_type": "markdown",
   "metadata": {},
   "source": [
    "#### Deep Autoencoder Training"
   ]
  },
  {
   "cell_type": "code",
   "execution_count": 5,
   "metadata": {},
   "outputs": [],
   "source": [
    "from spectraZones.networks import Config, AutoEncoderModel"
   ]
  },
  {
   "cell_type": "code",
   "execution_count": 6,
   "metadata": {},
   "outputs": [],
   "source": [
    "# Set model hyperparameters\n",
    "import torch\n",
    "model_params = {\n",
    "    \"input_dim\": all_spectra_cr.shape[1], # number of input features\n",
    "    \"batch_size\": 256,\n",
    "    \"lr\": 1e-3, # learning rate\n",
    "    \"lr_w_decay\": 1e-5, # weight decay\n",
    "    \"start_filter\": 256, # first hidden layer size\n",
    "    \"depth\": 4, # number of hidden layers\n",
    "    \"criterion\": torch.nn.MSELoss(), # loss function\n",
    "    \"optimizer\": torch.optim.Adam,\n",
    "    \"es_patience\": 10, # early stopping patience\n",
    "    \"es_delta\": 1e-5, # early stopping delta\n",
    "}"
   ]
  },
  {
   "cell_type": "code",
   "execution_count": 7,
   "metadata": {},
   "outputs": [
    {
     "name": "stdout",
     "output_type": "stream",
     "text": [
      "\n",
      "-----------------------------------\n",
      "Starting NN Model at device: cuda:0\n",
      "-----------------------------------\n",
      "\n",
      "AutoencoderNN(\n",
      "  (encoder): Sequential(\n",
      "    (lin_1): Linear(in_features=872, out_features=256, bias=True)\n",
      "    (relu_1): ReLU(inplace=True)\n",
      "    (lin_2): Linear(in_features=256, out_features=128, bias=True)\n",
      "    (relu_2): ReLU(inplace=True)\n",
      "    (lin_3): Linear(in_features=128, out_features=64, bias=True)\n",
      "    (relu_3): ReLU(inplace=True)\n",
      "    (lin_4): Linear(in_features=64, out_features=32, bias=True)\n",
      "    (relu_4): ReLU(inplace=True)\n",
      "    (lin_5): Linear(in_features=32, out_features=16, bias=True)\n",
      "  )\n",
      "  (decoder): Sequential(\n",
      "    (lin_1): Linear(in_features=16, out_features=32, bias=True)\n",
      "    (relu_1): ReLU(inplace=True)\n",
      "    (lin_2): Linear(in_features=32, out_features=64, bias=True)\n",
      "    (relu_2): ReLU(inplace=True)\n",
      "    (lin_3): Linear(in_features=64, out_features=128, bias=True)\n",
      "    (relu_3): ReLU(inplace=True)\n",
      "    (lin_4): Linear(in_features=128, out_features=256, bias=True)\n",
      "    (relu_4): ReLU(inplace=True)\n",
      "    (lin_5): Linear(in_features=256, out_features=872, bias=True)\n",
      "  )\n",
      ")\n"
     ]
    }
   ],
   "source": [
    "config = Config()\n",
    "config.merge(model_params)\n",
    "\n",
    "model_save_path = os.path.join(\"models\", \"DAE\")\n",
    "os.makedirs(model_save_path, exist_ok=True)\n",
    "\n",
    "model = AutoEncoderModel(\n",
    "    config,\n",
    "    save_path=model_save_path,\n",
    "    model_name=\"prominentHill_autoencolder_all_cr\",\n",
    "    random_seed=42,\n",
    ")\n",
    "print(model.nn)"
   ]
  },
  {
   "cell_type": "code",
   "execution_count": 8,
   "metadata": {},
   "outputs": [
    {
     "name": "stdout",
     "output_type": "stream",
     "text": [
      "Start Training Model: prominentHill_autoencolder_all_cr\n",
      "  - Total Epochs: 100\n"
     ]
    },
    {
     "data": {
      "application/vnd.jupyter.widget-view+json": {
       "model_id": "6d2b8b3e728a47f68875a0c54259f0d2",
       "version_major": 2,
       "version_minor": 0
      },
      "text/plain": [
       "Training Epoch:   0%|          | 0/100 [00:00<?, ?it/s]"
      ]
     },
     "metadata": {},
     "output_type": "display_data"
    },
    {
     "data": {
      "application/vnd.jupyter.widget-view+json": {
       "model_id": "3692dbb3924242b5bc585a10504a4ecc",
       "version_major": 2,
       "version_minor": 0
      },
      "text/plain": [
       "Training Batch:   0%|          | 0/857 [00:00<?, ?it/s]"
      ]
     },
     "metadata": {},
     "output_type": "display_data"
    },
    {
     "name": "stdout",
     "output_type": "stream",
     "text": [
      "Validation loss decreased (inf --> 0.018831).  Saving model ...\n"
     ]
    },
    {
     "data": {
      "application/vnd.jupyter.widget-view+json": {
       "model_id": "ea725b0e3fc74b5bb1c5ed963a6a537b",
       "version_major": 2,
       "version_minor": 0
      },
      "text/plain": [
       "Training Batch:   0%|          | 0/857 [00:00<?, ?it/s]"
      ]
     },
     "metadata": {},
     "output_type": "display_data"
    },
    {
     "name": "stdout",
     "output_type": "stream",
     "text": [
      "Validation loss decreased (0.018831 --> 0.003161).  Saving model ...\n"
     ]
    },
    {
     "data": {
      "application/vnd.jupyter.widget-view+json": {
       "model_id": "69203b203423450382449912754a206a",
       "version_major": 2,
       "version_minor": 0
      },
      "text/plain": [
       "Training Batch:   0%|          | 0/857 [00:00<?, ?it/s]"
      ]
     },
     "metadata": {},
     "output_type": "display_data"
    },
    {
     "name": "stdout",
     "output_type": "stream",
     "text": [
      "Validation loss decreased (0.003161 --> 0.002620).  Saving model ...\n"
     ]
    },
    {
     "data": {
      "application/vnd.jupyter.widget-view+json": {
       "model_id": "9cca0a4c9b0b4df1989f1483e9dfd8e2",
       "version_major": 2,
       "version_minor": 0
      },
      "text/plain": [
       "Training Batch:   0%|          | 0/857 [00:00<?, ?it/s]"
      ]
     },
     "metadata": {},
     "output_type": "display_data"
    },
    {
     "name": "stdout",
     "output_type": "stream",
     "text": [
      "Validation loss decreased (0.002620 --> 0.002421).  Saving model ...\n"
     ]
    },
    {
     "data": {
      "application/vnd.jupyter.widget-view+json": {
       "model_id": "dd8ea06633fd4d14abe81427ffa669ad",
       "version_major": 2,
       "version_minor": 0
      },
      "text/plain": [
       "Training Batch:   0%|          | 0/857 [00:00<?, ?it/s]"
      ]
     },
     "metadata": {},
     "output_type": "display_data"
    },
    {
     "name": "stdout",
     "output_type": "stream",
     "text": [
      "Validation loss decreased (0.002421 --> 0.002250).  Saving model ...\n"
     ]
    },
    {
     "data": {
      "application/vnd.jupyter.widget-view+json": {
       "model_id": "2a40b47b29804da88b1c7f69629fce85",
       "version_major": 2,
       "version_minor": 0
      },
      "text/plain": [
       "Training Batch:   0%|          | 0/857 [00:00<?, ?it/s]"
      ]
     },
     "metadata": {},
     "output_type": "display_data"
    },
    {
     "name": "stdout",
     "output_type": "stream",
     "text": [
      "Validation loss decreased (0.002250 --> 0.002144).  Saving model ...\n"
     ]
    },
    {
     "data": {
      "application/vnd.jupyter.widget-view+json": {
       "model_id": "4cf82c101f694c9580288899d6be400d",
       "version_major": 2,
       "version_minor": 0
      },
      "text/plain": [
       "Training Batch:   0%|          | 0/857 [00:00<?, ?it/s]"
      ]
     },
     "metadata": {},
     "output_type": "display_data"
    },
    {
     "name": "stdout",
     "output_type": "stream",
     "text": [
      "Validation loss decreased (0.002144 --> 0.002081).  Saving model ...\n"
     ]
    },
    {
     "data": {
      "application/vnd.jupyter.widget-view+json": {
       "model_id": "c8eb71b371864f7794b8c521434062a0",
       "version_major": 2,
       "version_minor": 0
      },
      "text/plain": [
       "Training Batch:   0%|          | 0/857 [00:00<?, ?it/s]"
      ]
     },
     "metadata": {},
     "output_type": "display_data"
    },
    {
     "name": "stdout",
     "output_type": "stream",
     "text": [
      "Validation loss decreased (0.002081 --> 0.002032).  Saving model ...\n"
     ]
    },
    {
     "data": {
      "application/vnd.jupyter.widget-view+json": {
       "model_id": "ef1b7c36f503438e92d20dab68874b79",
       "version_major": 2,
       "version_minor": 0
      },
      "text/plain": [
       "Training Batch:   0%|          | 0/857 [00:00<?, ?it/s]"
      ]
     },
     "metadata": {},
     "output_type": "display_data"
    },
    {
     "name": "stdout",
     "output_type": "stream",
     "text": [
      "Validation loss decreased (0.002032 --> 0.001996).  Saving model ...\n"
     ]
    },
    {
     "data": {
      "application/vnd.jupyter.widget-view+json": {
       "model_id": "de73177021564f64b6498437876b2948",
       "version_major": 2,
       "version_minor": 0
      },
      "text/plain": [
       "Training Batch:   0%|          | 0/857 [00:00<?, ?it/s]"
      ]
     },
     "metadata": {},
     "output_type": "display_data"
    },
    {
     "name": "stdout",
     "output_type": "stream",
     "text": [
      "Validation loss decreased (0.001996 --> 0.001976).  Saving model ...\n"
     ]
    },
    {
     "data": {
      "application/vnd.jupyter.widget-view+json": {
       "model_id": "8664773c34c440b9b1e09fdc291829fb",
       "version_major": 2,
       "version_minor": 0
      },
      "text/plain": [
       "Training Batch:   0%|          | 0/857 [00:00<?, ?it/s]"
      ]
     },
     "metadata": {},
     "output_type": "display_data"
    },
    {
     "name": "stdout",
     "output_type": "stream",
     "text": [
      "Validation loss decreased (0.001976 --> 0.001933).  Saving model ...\n"
     ]
    },
    {
     "data": {
      "application/vnd.jupyter.widget-view+json": {
       "model_id": "38dc9dacef1a41c9a9e8f94ee7d0fb2a",
       "version_major": 2,
       "version_minor": 0
      },
      "text/plain": [
       "Training Batch:   0%|          | 0/857 [00:00<?, ?it/s]"
      ]
     },
     "metadata": {},
     "output_type": "display_data"
    },
    {
     "name": "stdout",
     "output_type": "stream",
     "text": [
      "Validation loss decreased (0.001933 --> 0.001915).  Saving model ...\n"
     ]
    },
    {
     "data": {
      "application/vnd.jupyter.widget-view+json": {
       "model_id": "7cac9b7493d44e4d8f5bc986b9bc9bb1",
       "version_major": 2,
       "version_minor": 0
      },
      "text/plain": [
       "Training Batch:   0%|          | 0/857 [00:00<?, ?it/s]"
      ]
     },
     "metadata": {},
     "output_type": "display_data"
    },
    {
     "name": "stdout",
     "output_type": "stream",
     "text": [
      "Validation loss decreased (0.001915 --> 0.001892).  Saving model ...\n"
     ]
    },
    {
     "data": {
      "application/vnd.jupyter.widget-view+json": {
       "model_id": "1251bb1f33b74934bd3e985f14d67ae1",
       "version_major": 2,
       "version_minor": 0
      },
      "text/plain": [
       "Training Batch:   0%|          | 0/857 [00:00<?, ?it/s]"
      ]
     },
     "metadata": {},
     "output_type": "display_data"
    },
    {
     "name": "stdout",
     "output_type": "stream",
     "text": [
      "Validation loss decreased (0.001892 --> 0.001873).  Saving model ...\n"
     ]
    },
    {
     "data": {
      "application/vnd.jupyter.widget-view+json": {
       "model_id": "60a6c5069aa84ed78f90a9b0bb082afc",
       "version_major": 2,
       "version_minor": 0
      },
      "text/plain": [
       "Training Batch:   0%|          | 0/857 [00:00<?, ?it/s]"
      ]
     },
     "metadata": {},
     "output_type": "display_data"
    },
    {
     "name": "stdout",
     "output_type": "stream",
     "text": [
      "Validation loss decreased (0.001873 --> 0.001858).  Saving model ...\n"
     ]
    },
    {
     "data": {
      "application/vnd.jupyter.widget-view+json": {
       "model_id": "f85443467bc24d969ddec8edaec51599",
       "version_major": 2,
       "version_minor": 0
      },
      "text/plain": [
       "Training Batch:   0%|          | 0/857 [00:00<?, ?it/s]"
      ]
     },
     "metadata": {},
     "output_type": "display_data"
    },
    {
     "name": "stdout",
     "output_type": "stream",
     "text": [
      "Validation loss decreased (0.001858 --> 0.001846).  Saving model ...\n"
     ]
    },
    {
     "data": {
      "application/vnd.jupyter.widget-view+json": {
       "model_id": "662a72ce62704be2b11732bcc7f4545a",
       "version_major": 2,
       "version_minor": 0
      },
      "text/plain": [
       "Training Batch:   0%|          | 0/857 [00:00<?, ?it/s]"
      ]
     },
     "metadata": {},
     "output_type": "display_data"
    },
    {
     "name": "stdout",
     "output_type": "stream",
     "text": [
      "Validation loss decreased (0.001846 --> 0.001834).  Saving model ...\n"
     ]
    },
    {
     "data": {
      "application/vnd.jupyter.widget-view+json": {
       "model_id": "4d71021e1d984934b750be72a63396bd",
       "version_major": 2,
       "version_minor": 0
      },
      "text/plain": [
       "Training Batch:   0%|          | 0/857 [00:00<?, ?it/s]"
      ]
     },
     "metadata": {},
     "output_type": "display_data"
    },
    {
     "name": "stdout",
     "output_type": "stream",
     "text": [
      "Validation loss decreased (0.001834 --> 0.001822).  Saving model ...\n"
     ]
    },
    {
     "data": {
      "application/vnd.jupyter.widget-view+json": {
       "model_id": "8fdd13b4e66a4c08940098f4eaf69555",
       "version_major": 2,
       "version_minor": 0
      },
      "text/plain": [
       "Training Batch:   0%|          | 0/857 [00:00<?, ?it/s]"
      ]
     },
     "metadata": {},
     "output_type": "display_data"
    },
    {
     "name": "stdout",
     "output_type": "stream",
     "text": [
      "Validation loss decreased (0.001822 --> 0.001811).  Saving model ...\n"
     ]
    },
    {
     "data": {
      "application/vnd.jupyter.widget-view+json": {
       "model_id": "9d43cc1b777648cbb69f6118199cf5e2",
       "version_major": 2,
       "version_minor": 0
      },
      "text/plain": [
       "Training Batch:   0%|          | 0/857 [00:00<?, ?it/s]"
      ]
     },
     "metadata": {},
     "output_type": "display_data"
    },
    {
     "name": "stdout",
     "output_type": "stream",
     "text": [
      "Validation loss decreased (0.001811 --> 0.001801).  Saving model ...\n"
     ]
    },
    {
     "data": {
      "application/vnd.jupyter.widget-view+json": {
       "model_id": "baf654e842284cb7813b95a122b51e43",
       "version_major": 2,
       "version_minor": 0
      },
      "text/plain": [
       "Training Batch:   0%|          | 0/857 [00:00<?, ?it/s]"
      ]
     },
     "metadata": {},
     "output_type": "display_data"
    },
    {
     "data": {
      "application/vnd.jupyter.widget-view+json": {
       "model_id": "64877b4c40da47ae8809910629f3a6c5",
       "version_major": 2,
       "version_minor": 0
      },
      "text/plain": [
       "Training Batch:   0%|          | 0/857 [00:00<?, ?it/s]"
      ]
     },
     "metadata": {},
     "output_type": "display_data"
    },
    {
     "name": "stdout",
     "output_type": "stream",
     "text": [
      "Validation loss decreased (0.001801 --> 0.001782).  Saving model ...\n"
     ]
    },
    {
     "data": {
      "application/vnd.jupyter.widget-view+json": {
       "model_id": "ca8377c4c90c46bb836d95d9aca238e4",
       "version_major": 2,
       "version_minor": 0
      },
      "text/plain": [
       "Training Batch:   0%|          | 0/857 [00:00<?, ?it/s]"
      ]
     },
     "metadata": {},
     "output_type": "display_data"
    },
    {
     "data": {
      "application/vnd.jupyter.widget-view+json": {
       "model_id": "5b639a21d6a241b6bf96656da14254bd",
       "version_major": 2,
       "version_minor": 0
      },
      "text/plain": [
       "Training Batch:   0%|          | 0/857 [00:00<?, ?it/s]"
      ]
     },
     "metadata": {},
     "output_type": "display_data"
    },
    {
     "name": "stdout",
     "output_type": "stream",
     "text": [
      "Validation loss decreased (0.001782 --> 0.001769).  Saving model ...\n"
     ]
    },
    {
     "data": {
      "application/vnd.jupyter.widget-view+json": {
       "model_id": "c0d3098888b045de9a8e3b625db8dac3",
       "version_major": 2,
       "version_minor": 0
      },
      "text/plain": [
       "Training Batch:   0%|          | 0/857 [00:00<?, ?it/s]"
      ]
     },
     "metadata": {},
     "output_type": "display_data"
    },
    {
     "data": {
      "application/vnd.jupyter.widget-view+json": {
       "model_id": "f8a710c2708a4694ac878c37f64b2707",
       "version_major": 2,
       "version_minor": 0
      },
      "text/plain": [
       "Training Batch:   0%|          | 0/857 [00:00<?, ?it/s]"
      ]
     },
     "metadata": {},
     "output_type": "display_data"
    },
    {
     "data": {
      "application/vnd.jupyter.widget-view+json": {
       "model_id": "101f6bb2989a4e0cbb9d4d6e32dda4a6",
       "version_major": 2,
       "version_minor": 0
      },
      "text/plain": [
       "Training Batch:   0%|          | 0/857 [00:00<?, ?it/s]"
      ]
     },
     "metadata": {},
     "output_type": "display_data"
    },
    {
     "name": "stdout",
     "output_type": "stream",
     "text": [
      "Validation loss decreased (0.001769 --> 0.001755).  Saving model ...\n"
     ]
    },
    {
     "data": {
      "application/vnd.jupyter.widget-view+json": {
       "model_id": "bba23a822d3b4e2cb581a8e3b65adf25",
       "version_major": 2,
       "version_minor": 0
      },
      "text/plain": [
       "Training Batch:   0%|          | 0/857 [00:00<?, ?it/s]"
      ]
     },
     "metadata": {},
     "output_type": "display_data"
    },
    {
     "data": {
      "application/vnd.jupyter.widget-view+json": {
       "model_id": "93f83310b33042079154a5d0fe5b680b",
       "version_major": 2,
       "version_minor": 0
      },
      "text/plain": [
       "Training Batch:   0%|          | 0/857 [00:00<?, ?it/s]"
      ]
     },
     "metadata": {},
     "output_type": "display_data"
    },
    {
     "name": "stdout",
     "output_type": "stream",
     "text": [
      "Validation loss decreased (0.001755 --> 0.001744).  Saving model ...\n"
     ]
    },
    {
     "data": {
      "application/vnd.jupyter.widget-view+json": {
       "model_id": "1fd965d572584c8b9a3db1729bd59a8e",
       "version_major": 2,
       "version_minor": 0
      },
      "text/plain": [
       "Training Batch:   0%|          | 0/857 [00:00<?, ?it/s]"
      ]
     },
     "metadata": {},
     "output_type": "display_data"
    },
    {
     "data": {
      "application/vnd.jupyter.widget-view+json": {
       "model_id": "6555a2a478904053b2b6c31207377478",
       "version_major": 2,
       "version_minor": 0
      },
      "text/plain": [
       "Training Batch:   0%|          | 0/857 [00:00<?, ?it/s]"
      ]
     },
     "metadata": {},
     "output_type": "display_data"
    },
    {
     "name": "stdout",
     "output_type": "stream",
     "text": [
      "Validation loss decreased (0.001744 --> 0.001726).  Saving model ...\n"
     ]
    },
    {
     "data": {
      "application/vnd.jupyter.widget-view+json": {
       "model_id": "7a5df9ac7d654ed0867e2ee35869aef0",
       "version_major": 2,
       "version_minor": 0
      },
      "text/plain": [
       "Training Batch:   0%|          | 0/857 [00:00<?, ?it/s]"
      ]
     },
     "metadata": {},
     "output_type": "display_data"
    },
    {
     "data": {
      "application/vnd.jupyter.widget-view+json": {
       "model_id": "dd6bca1f9b104d288ccad8a9954bb10b",
       "version_major": 2,
       "version_minor": 0
      },
      "text/plain": [
       "Training Batch:   0%|          | 0/857 [00:00<?, ?it/s]"
      ]
     },
     "metadata": {},
     "output_type": "display_data"
    },
    {
     "data": {
      "application/vnd.jupyter.widget-view+json": {
       "model_id": "f2b44647209343ceab3a155b0b351200",
       "version_major": 2,
       "version_minor": 0
      },
      "text/plain": [
       "Training Batch:   0%|          | 0/857 [00:00<?, ?it/s]"
      ]
     },
     "metadata": {},
     "output_type": "display_data"
    },
    {
     "name": "stdout",
     "output_type": "stream",
     "text": [
      "Validation loss decreased (0.001726 --> 0.001711).  Saving model ...\n"
     ]
    },
    {
     "data": {
      "application/vnd.jupyter.widget-view+json": {
       "model_id": "9e9e786bb4bb4c339244cc1922680057",
       "version_major": 2,
       "version_minor": 0
      },
      "text/plain": [
       "Training Batch:   0%|          | 0/857 [00:00<?, ?it/s]"
      ]
     },
     "metadata": {},
     "output_type": "display_data"
    },
    {
     "data": {
      "application/vnd.jupyter.widget-view+json": {
       "model_id": "3a15aae891f5411a8352a986cb1eebd8",
       "version_major": 2,
       "version_minor": 0
      },
      "text/plain": [
       "Training Batch:   0%|          | 0/857 [00:00<?, ?it/s]"
      ]
     },
     "metadata": {},
     "output_type": "display_data"
    },
    {
     "data": {
      "application/vnd.jupyter.widget-view+json": {
       "model_id": "c699274d3b4b4e8eb9de88cb9a02ca71",
       "version_major": 2,
       "version_minor": 0
      },
      "text/plain": [
       "Training Batch:   0%|          | 0/857 [00:00<?, ?it/s]"
      ]
     },
     "metadata": {},
     "output_type": "display_data"
    },
    {
     "data": {
      "application/vnd.jupyter.widget-view+json": {
       "model_id": "5ba3a17c338342aeab4304c203a6f7cc",
       "version_major": 2,
       "version_minor": 0
      },
      "text/plain": [
       "Training Batch:   0%|          | 0/857 [00:00<?, ?it/s]"
      ]
     },
     "metadata": {},
     "output_type": "display_data"
    },
    {
     "name": "stdout",
     "output_type": "stream",
     "text": [
      "Validation loss decreased (0.001711 --> 0.001697).  Saving model ...\n"
     ]
    },
    {
     "data": {
      "application/vnd.jupyter.widget-view+json": {
       "model_id": "d1920cc159cd48709ecb703f8827a562",
       "version_major": 2,
       "version_minor": 0
      },
      "text/plain": [
       "Training Batch:   0%|          | 0/857 [00:00<?, ?it/s]"
      ]
     },
     "metadata": {},
     "output_type": "display_data"
    },
    {
     "data": {
      "application/vnd.jupyter.widget-view+json": {
       "model_id": "aedae98b87884a1282029d44cd90c3f8",
       "version_major": 2,
       "version_minor": 0
      },
      "text/plain": [
       "Training Batch:   0%|          | 0/857 [00:00<?, ?it/s]"
      ]
     },
     "metadata": {},
     "output_type": "display_data"
    },
    {
     "data": {
      "application/vnd.jupyter.widget-view+json": {
       "model_id": "99f4fadda9154f5e9d0339338447b636",
       "version_major": 2,
       "version_minor": 0
      },
      "text/plain": [
       "Training Batch:   0%|          | 0/857 [00:00<?, ?it/s]"
      ]
     },
     "metadata": {},
     "output_type": "display_data"
    },
    {
     "data": {
      "application/vnd.jupyter.widget-view+json": {
       "model_id": "4c8fb969865c4b11892feca4c073cbe9",
       "version_major": 2,
       "version_minor": 0
      },
      "text/plain": [
       "Training Batch:   0%|          | 0/857 [00:00<?, ?it/s]"
      ]
     },
     "metadata": {},
     "output_type": "display_data"
    },
    {
     "data": {
      "application/vnd.jupyter.widget-view+json": {
       "model_id": "c867cd86065e4aee89f5155ff40c4f51",
       "version_major": 2,
       "version_minor": 0
      },
      "text/plain": [
       "Training Batch:   0%|          | 0/857 [00:00<?, ?it/s]"
      ]
     },
     "metadata": {},
     "output_type": "display_data"
    },
    {
     "data": {
      "application/vnd.jupyter.widget-view+json": {
       "model_id": "8a7d51b619ca45b4b52a28347dea7ac1",
       "version_major": 2,
       "version_minor": 0
      },
      "text/plain": [
       "Training Batch:   0%|          | 0/857 [00:00<?, ?it/s]"
      ]
     },
     "metadata": {},
     "output_type": "display_data"
    },
    {
     "name": "stdout",
     "output_type": "stream",
     "text": [
      "Validation loss decreased (0.001697 --> 0.001683).  Saving model ...\n"
     ]
    },
    {
     "data": {
      "application/vnd.jupyter.widget-view+json": {
       "model_id": "62d2c92115044a32b091694c20748867",
       "version_major": 2,
       "version_minor": 0
      },
      "text/plain": [
       "Training Batch:   0%|          | 0/857 [00:00<?, ?it/s]"
      ]
     },
     "metadata": {},
     "output_type": "display_data"
    },
    {
     "data": {
      "application/vnd.jupyter.widget-view+json": {
       "model_id": "0adfa489f5094636921f695f2a238ee1",
       "version_major": 2,
       "version_minor": 0
      },
      "text/plain": [
       "Training Batch:   0%|          | 0/857 [00:00<?, ?it/s]"
      ]
     },
     "metadata": {},
     "output_type": "display_data"
    },
    {
     "data": {
      "application/vnd.jupyter.widget-view+json": {
       "model_id": "78cea3769a5d4eb18783a81980ef9a26",
       "version_major": 2,
       "version_minor": 0
      },
      "text/plain": [
       "Training Batch:   0%|          | 0/857 [00:00<?, ?it/s]"
      ]
     },
     "metadata": {},
     "output_type": "display_data"
    },
    {
     "data": {
      "application/vnd.jupyter.widget-view+json": {
       "model_id": "ceba0622d6294eb4983affb570b93258",
       "version_major": 2,
       "version_minor": 0
      },
      "text/plain": [
       "Training Batch:   0%|          | 0/857 [00:00<?, ?it/s]"
      ]
     },
     "metadata": {},
     "output_type": "display_data"
    },
    {
     "data": {
      "application/vnd.jupyter.widget-view+json": {
       "model_id": "be925cb984304b7885bfb498a40ddef4",
       "version_major": 2,
       "version_minor": 0
      },
      "text/plain": [
       "Training Batch:   0%|          | 0/857 [00:00<?, ?it/s]"
      ]
     },
     "metadata": {},
     "output_type": "display_data"
    },
    {
     "name": "stdout",
     "output_type": "stream",
     "text": [
      "Validation loss decreased (0.001683 --> 0.001665).  Saving model ...\n"
     ]
    },
    {
     "data": {
      "application/vnd.jupyter.widget-view+json": {
       "model_id": "0f930f9d46774b99b6f9d86589d0cef4",
       "version_major": 2,
       "version_minor": 0
      },
      "text/plain": [
       "Training Batch:   0%|          | 0/857 [00:00<?, ?it/s]"
      ]
     },
     "metadata": {},
     "output_type": "display_data"
    },
    {
     "data": {
      "application/vnd.jupyter.widget-view+json": {
       "model_id": "2db3bb1b2f10459a9d80af719779dd3f",
       "version_major": 2,
       "version_minor": 0
      },
      "text/plain": [
       "Training Batch:   0%|          | 0/857 [00:00<?, ?it/s]"
      ]
     },
     "metadata": {},
     "output_type": "display_data"
    },
    {
     "data": {
      "application/vnd.jupyter.widget-view+json": {
       "model_id": "84f782731fef4319a636b0df761bd529",
       "version_major": 2,
       "version_minor": 0
      },
      "text/plain": [
       "Training Batch:   0%|          | 0/857 [00:00<?, ?it/s]"
      ]
     },
     "metadata": {},
     "output_type": "display_data"
    },
    {
     "data": {
      "application/vnd.jupyter.widget-view+json": {
       "model_id": "0052f8e34aa04a39981a2d7450320274",
       "version_major": 2,
       "version_minor": 0
      },
      "text/plain": [
       "Training Batch:   0%|          | 0/857 [00:00<?, ?it/s]"
      ]
     },
     "metadata": {},
     "output_type": "display_data"
    },
    {
     "data": {
      "application/vnd.jupyter.widget-view+json": {
       "model_id": "d91f4d2384754a20bd8b6ea8eb917c4d",
       "version_major": 2,
       "version_minor": 0
      },
      "text/plain": [
       "Training Batch:   0%|          | 0/857 [00:00<?, ?it/s]"
      ]
     },
     "metadata": {},
     "output_type": "display_data"
    },
    {
     "data": {
      "application/vnd.jupyter.widget-view+json": {
       "model_id": "2c2deb48c5d04bbaa787d0ac5191bcb4",
       "version_major": 2,
       "version_minor": 0
      },
      "text/plain": [
       "Training Batch:   0%|          | 0/857 [00:00<?, ?it/s]"
      ]
     },
     "metadata": {},
     "output_type": "display_data"
    },
    {
     "data": {
      "application/vnd.jupyter.widget-view+json": {
       "model_id": "699079fb6fb341c39afa4616faeae3e9",
       "version_major": 2,
       "version_minor": 0
      },
      "text/plain": [
       "Training Batch:   0%|          | 0/857 [00:00<?, ?it/s]"
      ]
     },
     "metadata": {},
     "output_type": "display_data"
    },
    {
     "data": {
      "application/vnd.jupyter.widget-view+json": {
       "model_id": "b4d48730cf554b5689dcc7ce0b0c9646",
       "version_major": 2,
       "version_minor": 0
      },
      "text/plain": [
       "Training Batch:   0%|          | 0/857 [00:00<?, ?it/s]"
      ]
     },
     "metadata": {},
     "output_type": "display_data"
    },
    {
     "data": {
      "application/vnd.jupyter.widget-view+json": {
       "model_id": "aef0ae18591043dc995911f46ac19c96",
       "version_major": 2,
       "version_minor": 0
      },
      "text/plain": [
       "Training Batch:   0%|          | 0/857 [00:00<?, ?it/s]"
      ]
     },
     "metadata": {},
     "output_type": "display_data"
    },
    {
     "data": {
      "application/vnd.jupyter.widget-view+json": {
       "model_id": "cd9fb615b06f47169d490e77ed85a64c",
       "version_major": 2,
       "version_minor": 0
      },
      "text/plain": [
       "Training Batch:   0%|          | 0/857 [00:00<?, ?it/s]"
      ]
     },
     "metadata": {},
     "output_type": "display_data"
    },
    {
     "name": "stdout",
     "output_type": "stream",
     "text": [
      "EarlyStopping counter: 10 out of 10 - LR: 0.001\n",
      "EarlyStopping training.\n"
     ]
    },
    {
     "data": {
      "application/pdf": "[encoded data removed]",
      "image/png": "[encoded data removed]",
      "text/plain": [
       "<Figure size 1905x635 with 1 Axes>"
      ]
     },
     "metadata": {},
     "output_type": "display_data"
    }
   ],
   "source": [
    "num_epochs = 100\n",
    "model.train(all_spectra_cr, num_epochs, 250)"
   ]
  }
 ],
 "metadata": {
  "kernelspec": {
   "display_name": "Python 3",
   "language": "python",
   "name": "python3"
  },
  "language_info": {
   "codemirror_mode": {
    "name": "ipython",
    "version": 3
   },
   "file_extension": ".py",
   "mimetype": "text/x-python",
   "name": "python",
   "nbconvert_exporter": "python",
   "pygments_lexer": "ipython3",
   "version": "3.11.11"
  }
 },
 "nbformat": 4,
 "nbformat_minor": 2
}
