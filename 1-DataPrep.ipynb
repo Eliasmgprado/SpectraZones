{
 "cells": [
  {
   "cell_type": "markdown",
   "metadata": {},
   "source": [
    "## Data Preparation\n",
    "\n",
    "- Prepare the dataset for training the DAE\n",
    "- Remove the Continuum"
   ]
  },
  {
   "cell_type": "code",
   "execution_count": 1,
   "metadata": {},
   "outputs": [],
   "source": [
    "import os\n",
    "import pickle\n",
    "import pandas as pd\n",
    "import numpy as np\n",
    "\n",
    "output_data_path = 'output/'\n",
    "os.makedirs(output_data_path, exist_ok=True)"
   ]
  },
  {
   "cell_type": "markdown",
   "metadata": {},
   "source": [
    "#### Load Dataset\n",
    "##### Spectra + TSG Class + Cu analysis"
   ]
  },
  {
   "cell_type": "code",
   "execution_count": 2,
   "metadata": {},
   "outputs": [],
   "source": [
    "import pandas as pd\n",
    "\n",
    "spec_df_chem = pd.read_pickle('data/prominetHill_spec_chem_final_.pkl')"
   ]
  },
  {
   "cell_type": "code",
   "execution_count": 3,
   "metadata": {},
   "outputs": [
    {
     "data": {
      "text/html": [
       "<div>\n",
       "<style scoped>\n",
       "    .dataframe tbody tr th:only-of-type {\n",
       "        vertical-align: middle;\n",
       "    }\n",
       "\n",
       "    .dataframe tbody tr th {\n",
       "        vertical-align: top;\n",
       "    }\n",
       "\n",
       "    .dataframe thead th {\n",
       "        text-align: right;\n",
       "    }\n",
       "</style>\n",
       "<table border=\"1\" class=\"dataframe\">\n",
       "  <thead>\n",
       "    <tr style=\"text-align: right;\">\n",
       "      <th></th>\n",
       "      <th>Sample</th>\n",
       "      <th>Depth (m)</th>\n",
       "      <th>Min1 uTSAS</th>\n",
       "      <th>Wt1 uTSAS</th>\n",
       "      <th>Min2 uTSAS</th>\n",
       "      <th>Wt2 uTSAS</th>\n",
       "      <th>Min3 uTSAS</th>\n",
       "      <th>Wt3 uTSAS</th>\n",
       "      <th>Error uTSAS</th>\n",
       "      <th>Min1 ujCLST</th>\n",
       "      <th>...</th>\n",
       "      <th>14300.0</th>\n",
       "      <th>14325.0</th>\n",
       "      <th>14350.0</th>\n",
       "      <th>14375.0</th>\n",
       "      <th>14400.0</th>\n",
       "      <th>14425.0</th>\n",
       "      <th>14450.0</th>\n",
       "      <th>14475.0</th>\n",
       "      <th>14500.0</th>\n",
       "      <th>Depth_idx</th>\n",
       "    </tr>\n",
       "  </thead>\n",
       "  <tbody>\n",
       "    <tr>\n",
       "      <th>0</th>\n",
       "      <td>241877_0001_1</td>\n",
       "      <td>62.903</td>\n",
       "      <td>NaN</td>\n",
       "      <td>NaN</td>\n",
       "      <td>NaN</td>\n",
       "      <td>NaN</td>\n",
       "      <td>NaN</td>\n",
       "      <td>NaN</td>\n",
       "      <td>NaN</td>\n",
       "      <td>NaN</td>\n",
       "      <td>...</td>\n",
       "      <td>0.123612</td>\n",
       "      <td>0.129789</td>\n",
       "      <td>0.135583</td>\n",
       "      <td>0.139656</td>\n",
       "      <td>0.141847</td>\n",
       "      <td>0.142505</td>\n",
       "      <td>0.142782</td>\n",
       "      <td>0.143598</td>\n",
       "      <td>0.145446</td>\n",
       "      <td>62.903017</td>\n",
       "    </tr>\n",
       "    <tr>\n",
       "      <th>1</th>\n",
       "      <td>241877_0001_2</td>\n",
       "      <td>62.903</td>\n",
       "      <td>NaN</td>\n",
       "      <td>NaN</td>\n",
       "      <td>NaN</td>\n",
       "      <td>NaN</td>\n",
       "      <td>NaN</td>\n",
       "      <td>NaN</td>\n",
       "      <td>NaN</td>\n",
       "      <td>NaN</td>\n",
       "      <td>...</td>\n",
       "      <td>0.085993</td>\n",
       "      <td>0.089868</td>\n",
       "      <td>0.097571</td>\n",
       "      <td>0.108306</td>\n",
       "      <td>0.120761</td>\n",
       "      <td>0.132940</td>\n",
       "      <td>0.143911</td>\n",
       "      <td>0.152296</td>\n",
       "      <td>0.156787</td>\n",
       "      <td>62.903019</td>\n",
       "    </tr>\n",
       "    <tr>\n",
       "      <th>2</th>\n",
       "      <td>241877_0001_3</td>\n",
       "      <td>62.903</td>\n",
       "      <td>NaN</td>\n",
       "      <td>NaN</td>\n",
       "      <td>NaN</td>\n",
       "      <td>NaN</td>\n",
       "      <td>NaN</td>\n",
       "      <td>NaN</td>\n",
       "      <td>NaN</td>\n",
       "      <td>NaN</td>\n",
       "      <td>...</td>\n",
       "      <td>0.103591</td>\n",
       "      <td>0.106344</td>\n",
       "      <td>0.113392</td>\n",
       "      <td>0.123753</td>\n",
       "      <td>0.135379</td>\n",
       "      <td>0.145596</td>\n",
       "      <td>0.153365</td>\n",
       "      <td>0.158294</td>\n",
       "      <td>0.160469</td>\n",
       "      <td>62.903011</td>\n",
       "    </tr>\n",
       "    <tr>\n",
       "      <th>3</th>\n",
       "      <td>241877_0001_4</td>\n",
       "      <td>62.903</td>\n",
       "      <td>NaN</td>\n",
       "      <td>NaN</td>\n",
       "      <td>NaN</td>\n",
       "      <td>NaN</td>\n",
       "      <td>NaN</td>\n",
       "      <td>NaN</td>\n",
       "      <td>NaN</td>\n",
       "      <td>NaN</td>\n",
       "      <td>...</td>\n",
       "      <td>0.089949</td>\n",
       "      <td>0.090597</td>\n",
       "      <td>0.094342</td>\n",
       "      <td>0.101330</td>\n",
       "      <td>0.111611</td>\n",
       "      <td>0.124039</td>\n",
       "      <td>0.137684</td>\n",
       "      <td>0.150909</td>\n",
       "      <td>0.161748</td>\n",
       "      <td>62.903013</td>\n",
       "    </tr>\n",
       "    <tr>\n",
       "      <th>4</th>\n",
       "      <td>241877_0001_5</td>\n",
       "      <td>62.903</td>\n",
       "      <td>NaN</td>\n",
       "      <td>NaN</td>\n",
       "      <td>NaN</td>\n",
       "      <td>NaN</td>\n",
       "      <td>NaN</td>\n",
       "      <td>NaN</td>\n",
       "      <td>NaN</td>\n",
       "      <td>NaN</td>\n",
       "      <td>...</td>\n",
       "      <td>0.088858</td>\n",
       "      <td>0.087487</td>\n",
       "      <td>0.090884</td>\n",
       "      <td>0.098510</td>\n",
       "      <td>0.108330</td>\n",
       "      <td>0.117291</td>\n",
       "      <td>0.124278</td>\n",
       "      <td>0.129234</td>\n",
       "      <td>0.132313</td>\n",
       "      <td>62.903014</td>\n",
       "    </tr>\n",
       "  </tbody>\n",
       "</table>\n",
       "<p>5 rows × 900 columns</p>\n",
       "</div>"
      ],
      "text/plain": [
       "          Sample  Depth (m) Min1 uTSAS  Wt1 uTSAS Min2 uTSAS  Wt2 uTSAS  \\\n",
       "0  241877_0001_1     62.903        NaN        NaN        NaN        NaN   \n",
       "1  241877_0001_2     62.903        NaN        NaN        NaN        NaN   \n",
       "2  241877_0001_3     62.903        NaN        NaN        NaN        NaN   \n",
       "3  241877_0001_4     62.903        NaN        NaN        NaN        NaN   \n",
       "4  241877_0001_5     62.903        NaN        NaN        NaN        NaN   \n",
       "\n",
       "  Min3 uTSAS  Wt3 uTSAS  Error uTSAS Min1 ujCLST  ...   14300.0   14325.0  \\\n",
       "0        NaN        NaN          NaN         NaN  ...  0.123612  0.129789   \n",
       "1        NaN        NaN          NaN         NaN  ...  0.085993  0.089868   \n",
       "2        NaN        NaN          NaN         NaN  ...  0.103591  0.106344   \n",
       "3        NaN        NaN          NaN         NaN  ...  0.089949  0.090597   \n",
       "4        NaN        NaN          NaN         NaN  ...  0.088858  0.087487   \n",
       "\n",
       "    14350.0   14375.0   14400.0   14425.0   14450.0   14475.0   14500.0  \\\n",
       "0  0.135583  0.139656  0.141847  0.142505  0.142782  0.143598  0.145446   \n",
       "1  0.097571  0.108306  0.120761  0.132940  0.143911  0.152296  0.156787   \n",
       "2  0.113392  0.123753  0.135379  0.145596  0.153365  0.158294  0.160469   \n",
       "3  0.094342  0.101330  0.111611  0.124039  0.137684  0.150909  0.161748   \n",
       "4  0.090884  0.098510  0.108330  0.117291  0.124278  0.129234  0.132313   \n",
       "\n",
       "   Depth_idx  \n",
       "0  62.903017  \n",
       "1  62.903019  \n",
       "2  62.903011  \n",
       "3  62.903013  \n",
       "4  62.903014  \n",
       "\n",
       "[5 rows x 900 columns]"
      ]
     },
     "execution_count": 3,
     "metadata": {},
     "output_type": "execute_result"
    }
   ],
   "source": [
    "spec_df_chem.head()"
   ]
  },
  {
   "cell_type": "code",
   "execution_count": 4,
   "metadata": {},
   "outputs": [],
   "source": [
    "# Extract Cu analysis from dataset\n",
    "training_data_cu = spec_df_chem[\"Cu\"]"
   ]
  },
  {
   "cell_type": "code",
   "execution_count": 5,
   "metadata": {},
   "outputs": [
    {
     "data": {
      "text/plain": [
       "0    0.004\n",
       "1    0.004\n",
       "2    0.004\n",
       "3    0.004\n",
       "4    0.004\n",
       "Name: Cu, dtype: float64"
      ]
     },
     "execution_count": 5,
     "metadata": {},
     "output_type": "execute_result"
    }
   ],
   "source": [
    "training_data_cu.head()"
   ]
  },
  {
   "cell_type": "markdown",
   "metadata": {},
   "source": [
    "##### Wavelenght Arrays (Feature Names)"
   ]
  },
  {
   "cell_type": "code",
   "execution_count": 6,
   "metadata": {},
   "outputs": [],
   "source": [
    "with open('data/wvl_arr.pkl', 'rb') as f:\n",
    "    base_wvl_arr = pickle.load(f)\n",
    "swir_wvl_base = base_wvl_arr[0].astype(str).values\n",
    "tir_wvl_base = base_wvl_arr[1].astype(str).values\n",
    "tir_wvl_base = [float(w) for w in tir_wvl_base]"
   ]
  },
  {
   "cell_type": "markdown",
   "metadata": {},
   "source": [
    "#### Set Drill Hole Training data"
   ]
  },
  {
   "cell_type": "code",
   "execution_count": 7,
   "metadata": {},
   "outputs": [
    {
     "name": "stdout",
     "output_type": "stream",
     "text": [
      "<class 'pandas.core.frame.DataFrame'>\n",
      "Index: 219363 entries, 0 to 220159\n",
      "Columns: 872 entries, 380.0 to 14500.0\n",
      "dtypes: float64(872)\n",
      "memory usage: 1.4 GB\n"
     ]
    }
   ],
   "source": [
    "# Construct training data only with spectral data\n",
    "training_data = spec_df_chem[list(swir_wvl_base) + list([int(w) for w in tir_wvl_base])]\n",
    "training_data.info()"
   ]
  },
  {
   "cell_type": "code",
   "execution_count": 8,
   "metadata": {},
   "outputs": [
    {
     "data": {
      "text/html": [
       "<div>\n",
       "<style scoped>\n",
       "    .dataframe tbody tr th:only-of-type {\n",
       "        vertical-align: middle;\n",
       "    }\n",
       "\n",
       "    .dataframe tbody tr th {\n",
       "        vertical-align: top;\n",
       "    }\n",
       "\n",
       "    .dataframe thead th {\n",
       "        text-align: right;\n",
       "    }\n",
       "</style>\n",
       "<table border=\"1\" class=\"dataframe\">\n",
       "  <thead>\n",
       "    <tr style=\"text-align: right;\">\n",
       "      <th></th>\n",
       "      <th>380.0</th>\n",
       "      <th>384.0</th>\n",
       "      <th>388.0</th>\n",
       "      <th>392.0</th>\n",
       "      <th>396.0</th>\n",
       "      <th>400.0</th>\n",
       "      <th>404.0</th>\n",
       "      <th>408.0</th>\n",
       "      <th>412.0</th>\n",
       "      <th>416.0</th>\n",
       "      <th>...</th>\n",
       "      <th>14275.0</th>\n",
       "      <th>14300.0</th>\n",
       "      <th>14325.0</th>\n",
       "      <th>14350.0</th>\n",
       "      <th>14375.0</th>\n",
       "      <th>14400.0</th>\n",
       "      <th>14425.0</th>\n",
       "      <th>14450.0</th>\n",
       "      <th>14475.0</th>\n",
       "      <th>14500.0</th>\n",
       "    </tr>\n",
       "  </thead>\n",
       "  <tbody>\n",
       "    <tr>\n",
       "      <th>0</th>\n",
       "      <td>0.252693</td>\n",
       "      <td>0.252136</td>\n",
       "      <td>0.250987</td>\n",
       "      <td>0.251158</td>\n",
       "      <td>0.250300</td>\n",
       "      <td>0.250713</td>\n",
       "      <td>0.250657</td>\n",
       "      <td>0.250953</td>\n",
       "      <td>0.251826</td>\n",
       "      <td>0.253221</td>\n",
       "      <td>...</td>\n",
       "      <td>0.119495</td>\n",
       "      <td>0.123612</td>\n",
       "      <td>0.129789</td>\n",
       "      <td>0.135583</td>\n",
       "      <td>0.139656</td>\n",
       "      <td>0.141847</td>\n",
       "      <td>0.142505</td>\n",
       "      <td>0.142782</td>\n",
       "      <td>0.143598</td>\n",
       "      <td>0.145446</td>\n",
       "    </tr>\n",
       "    <tr>\n",
       "      <th>1</th>\n",
       "      <td>0.169080</td>\n",
       "      <td>0.168682</td>\n",
       "      <td>0.167721</td>\n",
       "      <td>0.167736</td>\n",
       "      <td>0.167315</td>\n",
       "      <td>0.167663</td>\n",
       "      <td>0.167769</td>\n",
       "      <td>0.168206</td>\n",
       "      <td>0.168960</td>\n",
       "      <td>0.170064</td>\n",
       "      <td>...</td>\n",
       "      <td>0.086353</td>\n",
       "      <td>0.085993</td>\n",
       "      <td>0.089868</td>\n",
       "      <td>0.097571</td>\n",
       "      <td>0.108306</td>\n",
       "      <td>0.120761</td>\n",
       "      <td>0.132940</td>\n",
       "      <td>0.143911</td>\n",
       "      <td>0.152296</td>\n",
       "      <td>0.156787</td>\n",
       "    </tr>\n",
       "    <tr>\n",
       "      <th>2</th>\n",
       "      <td>0.168449</td>\n",
       "      <td>0.169021</td>\n",
       "      <td>0.169171</td>\n",
       "      <td>0.170367</td>\n",
       "      <td>0.170694</td>\n",
       "      <td>0.172072</td>\n",
       "      <td>0.172899</td>\n",
       "      <td>0.173940</td>\n",
       "      <td>0.175187</td>\n",
       "      <td>0.176431</td>\n",
       "      <td>...</td>\n",
       "      <td>0.105031</td>\n",
       "      <td>0.103591</td>\n",
       "      <td>0.106344</td>\n",
       "      <td>0.113392</td>\n",
       "      <td>0.123753</td>\n",
       "      <td>0.135379</td>\n",
       "      <td>0.145596</td>\n",
       "      <td>0.153365</td>\n",
       "      <td>0.158294</td>\n",
       "      <td>0.160469</td>\n",
       "    </tr>\n",
       "    <tr>\n",
       "      <th>3</th>\n",
       "      <td>0.151682</td>\n",
       "      <td>0.152350</td>\n",
       "      <td>0.152605</td>\n",
       "      <td>0.153702</td>\n",
       "      <td>0.154191</td>\n",
       "      <td>0.155479</td>\n",
       "      <td>0.156285</td>\n",
       "      <td>0.157167</td>\n",
       "      <td>0.158204</td>\n",
       "      <td>0.159429</td>\n",
       "      <td>...</td>\n",
       "      <td>0.092608</td>\n",
       "      <td>0.089949</td>\n",
       "      <td>0.090597</td>\n",
       "      <td>0.094342</td>\n",
       "      <td>0.101330</td>\n",
       "      <td>0.111611</td>\n",
       "      <td>0.124039</td>\n",
       "      <td>0.137684</td>\n",
       "      <td>0.150909</td>\n",
       "      <td>0.161748</td>\n",
       "    </tr>\n",
       "    <tr>\n",
       "      <th>4</th>\n",
       "      <td>0.132590</td>\n",
       "      <td>0.131751</td>\n",
       "      <td>0.130580</td>\n",
       "      <td>0.130464</td>\n",
       "      <td>0.130035</td>\n",
       "      <td>0.130468</td>\n",
       "      <td>0.130801</td>\n",
       "      <td>0.131667</td>\n",
       "      <td>0.132959</td>\n",
       "      <td>0.134908</td>\n",
       "      <td>...</td>\n",
       "      <td>0.094155</td>\n",
       "      <td>0.088858</td>\n",
       "      <td>0.087487</td>\n",
       "      <td>0.090884</td>\n",
       "      <td>0.098510</td>\n",
       "      <td>0.108330</td>\n",
       "      <td>0.117291</td>\n",
       "      <td>0.124278</td>\n",
       "      <td>0.129234</td>\n",
       "      <td>0.132313</td>\n",
       "    </tr>\n",
       "  </tbody>\n",
       "</table>\n",
       "<p>5 rows × 872 columns</p>\n",
       "</div>"
      ],
      "text/plain": [
       "      380.0     384.0     388.0     392.0     396.0     400.0     404.0  \\\n",
       "0  0.252693  0.252136  0.250987  0.251158  0.250300  0.250713  0.250657   \n",
       "1  0.169080  0.168682  0.167721  0.167736  0.167315  0.167663  0.167769   \n",
       "2  0.168449  0.169021  0.169171  0.170367  0.170694  0.172072  0.172899   \n",
       "3  0.151682  0.152350  0.152605  0.153702  0.154191  0.155479  0.156285   \n",
       "4  0.132590  0.131751  0.130580  0.130464  0.130035  0.130468  0.130801   \n",
       "\n",
       "      408.0     412.0     416.0  ...   14275.0   14300.0   14325.0   14350.0  \\\n",
       "0  0.250953  0.251826  0.253221  ...  0.119495  0.123612  0.129789  0.135583   \n",
       "1  0.168206  0.168960  0.170064  ...  0.086353  0.085993  0.089868  0.097571   \n",
       "2  0.173940  0.175187  0.176431  ...  0.105031  0.103591  0.106344  0.113392   \n",
       "3  0.157167  0.158204  0.159429  ...  0.092608  0.089949  0.090597  0.094342   \n",
       "4  0.131667  0.132959  0.134908  ...  0.094155  0.088858  0.087487  0.090884   \n",
       "\n",
       "    14375.0   14400.0   14425.0   14450.0   14475.0   14500.0  \n",
       "0  0.139656  0.141847  0.142505  0.142782  0.143598  0.145446  \n",
       "1  0.108306  0.120761  0.132940  0.143911  0.152296  0.156787  \n",
       "2  0.123753  0.135379  0.145596  0.153365  0.158294  0.160469  \n",
       "3  0.101330  0.111611  0.124039  0.137684  0.150909  0.161748  \n",
       "4  0.098510  0.108330  0.117291  0.124278  0.129234  0.132313  \n",
       "\n",
       "[5 rows x 872 columns]"
      ]
     },
     "execution_count": 8,
     "metadata": {},
     "output_type": "execute_result"
    }
   ],
   "source": [
    "training_data.head()"
   ]
  },
  {
   "cell_type": "markdown",
   "metadata": {},
   "source": [
    "##### Save Drill Hole Training"
   ]
  },
  {
   "cell_type": "code",
   "execution_count": 9,
   "metadata": {},
   "outputs": [],
   "source": [
    "with open(\n",
    "    os.path.join(output_data_path, \"prominentHill_swir_tir_specs_cu_corr.pkl\"), \"wb\"\n",
    ") as f:\n",
    "    pickle.dump((training_data, training_data_cu), f, protocol=pickle.HIGHEST_PROTOCOL)"
   ]
  },
  {
   "cell_type": "markdown",
   "metadata": {},
   "source": [
    "#### Load Training Data\n"
   ]
  },
  {
   "cell_type": "code",
   "execution_count": 10,
   "metadata": {},
   "outputs": [],
   "source": [
    "with open(\n",
    "    os.path.join(output_data_path, \"prominentHill_swir_tir_specs_cu_corr.pkl\"), \"rb\"\n",
    ") as f:\n",
    "\n",
    "    training_data, training_data_cu = pickle.load(f)"
   ]
  },
  {
   "cell_type": "markdown",
   "metadata": {},
   "source": [
    "#### Remove Continuum Drill Hole Data"
   ]
  },
  {
   "cell_type": "code",
   "execution_count": 11,
   "metadata": {},
   "outputs": [],
   "source": [
    "from spectraZones.spectra.utils import remove_continuum_parallel"
   ]
  },
  {
   "cell_type": "code",
   "execution_count": 12,
   "metadata": {},
   "outputs": [],
   "source": [
    "all_spectra = training_data.values\n",
    "all_cu = training_data_cu.values.reshape((-1,1))"
   ]
  },
  {
   "cell_type": "code",
   "execution_count": 13,
   "metadata": {},
   "outputs": [],
   "source": [
    "all_swir = all_spectra[:, :len(swir_wvl_base)]\n",
    "all_tir = all_spectra[:, len(swir_wvl_base):]"
   ]
  },
  {
   "cell_type": "code",
   "execution_count": 14,
   "metadata": {},
   "outputs": [
    {
     "name": "stdout",
     "output_type": "stream",
     "text": [
      "SWIR DATA SHAPE:  (219363, 531)\n",
      "TIR DATA SHAPE:  (219363, 341)\n"
     ]
    }
   ],
   "source": [
    "print(\"SWIR DATA SHAPE: \", all_swir.shape)\n",
    "print(\"TIR DATA SHAPE: \", all_tir.shape)"
   ]
  },
  {
   "cell_type": "code",
   "execution_count": 15,
   "metadata": {},
   "outputs": [
    {
     "name": "stdout",
     "output_type": "stream",
     "text": [
      "Using 32 cores for parallel processing.\n"
     ]
    },
    {
     "data": {
      "application/vnd.jupyter.widget-view+json": {
       "model_id": "ff6a21ab3e994f7abdccef4868060825",
       "version_major": 2,
       "version_minor": 0
      },
      "text/plain": [
       "Processing samples:   0%|          | 0/219363 [00:00<?, ?it/s]"
      ]
     },
     "metadata": {},
     "output_type": "display_data"
    }
   ],
   "source": [
    "all_swir_cr = remove_continuum_parallel(all_swir, swir_wvl_base)"
   ]
  },
  {
   "cell_type": "code",
   "execution_count": 16,
   "metadata": {},
   "outputs": [
    {
     "name": "stdout",
     "output_type": "stream",
     "text": [
      "Using 32 cores for parallel processing.\n"
     ]
    },
    {
     "data": {
      "application/vnd.jupyter.widget-view+json": {
       "model_id": "402bc1531a0349f2b98f3bfca9886beb",
       "version_major": 2,
       "version_minor": 0
      },
      "text/plain": [
       "Processing samples:   0%|          | 0/219363 [00:00<?, ?it/s]"
      ]
     },
     "metadata": {},
     "output_type": "display_data"
    }
   ],
   "source": [
    "all_tir_cr = remove_continuum_parallel(all_tir, tir_wvl_base)"
   ]
  },
  {
   "cell_type": "code",
   "execution_count": 17,
   "metadata": {},
   "outputs": [],
   "source": [
    "all_spectra_cr = np.concatenate((all_swir_cr, all_tir_cr), axis=1).reshape((all_swir_cr.shape[0],-1))"
   ]
  },
  {
   "cell_type": "code",
   "execution_count": 18,
   "metadata": {},
   "outputs": [
    {
     "name": "stdout",
     "output_type": "stream",
     "text": [
      "ALL SPECTRA CR SHAPE:  (219363, 872)\n"
     ]
    }
   ],
   "source": [
    "print(\"ALL SPECTRA CR SHAPE: \", all_spectra_cr.shape)"
   ]
  },
  {
   "cell_type": "markdown",
   "metadata": {},
   "source": [
    "##### Save CR Drill Hole Data"
   ]
  },
  {
   "cell_type": "code",
   "execution_count": 19,
   "metadata": {},
   "outputs": [],
   "source": [
    "with open(\n",
    "    os.path.join(output_data_path, \"prominentHill_all_spectra_cr_cu.pkl\"), \"wb\"\n",
    ") as f:\n",
    "\n",
    "    pickle.dump((all_spectra_cr, all_cu), f, protocol=pickle.HIGHEST_PROTOCOL)"
   ]
  },
  {
   "cell_type": "code",
   "execution_count": 20,
   "metadata": {},
   "outputs": [],
   "source": [
    "with open(\n",
    "    os.path.join(output_data_path, \"prominentHill_all_spectra_cr_cu_idxs.pkl\"), \"wb\"\n",
    ") as f:\n",
    "\n",
    "    pickle.dump(training_data.index, f, protocol=pickle.HIGHEST_PROTOCOL)"
   ]
  }
 ],
 "metadata": {
  "kernelspec": {
   "display_name": "Python 3",
   "language": "python",
   "name": "python3"
  },
  "language_info": {
   "codemirror_mode": {
    "name": "ipython",
    "version": 3
   },
   "file_extension": ".py",
   "mimetype": "text/x-python",
   "name": "python",
   "nbconvert_exporter": "python",
   "pygments_lexer": "ipython3",
   "version": "3.11.11"
  }
 },
 "nbformat": 4,
 "nbformat_minor": 2
}
